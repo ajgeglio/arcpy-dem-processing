{
 "cells": [
  {
   "cell_type": "code",
   "execution_count": 1,
   "metadata": {},
   "outputs": [],
   "source": [
    "import sys\n",
    "import arcpy\n",
    "sys.path.append(\"../src\")\n",
    "from utils import Utils, WorkspaceCleaner, demUtils\n",
    "from landforms import Landforms\n",
    "from derivatives import HabitatDerivatives\n",
    "from extents import GetCoordinates\n",
    "from inpainter import Inpainter\n",
    "import os\n",
    "import glob"
   ]
  },
  {
   "cell_type": "markdown",
   "metadata": {},
   "source": [
    "# 1. Indexing the Tiff files"
   ]
  },
  {
   "cell_type": "code",
   "execution_count": null,
   "metadata": {},
   "outputs": [],
   "source": [
    "## Manual input of the DEM to be used\n",
    "input_dem = r\"../dem/dem.tif\"\n",
    "# input_dem = r\"dem\\Ingalls Point 1m_clipped.tif\"\n",
    "# Define the products to be created\n",
    "# \n",
    "products = [\"slope\", \"aspect\", \"roughness\", \"tpi\", \"tri\", \"hillshade\"]\n",
    "products = [\"shannon_index\"]\n",
    "# products = [\"slope\"]\n",
    "print(\"ORIGINAL PATH:\", input_dem)\n",
    "print(\"PRODUCTS:\", products)\n",
    "GetCoordinates().return_min_max_tif_df([input_dem])"
   ]
  },
  {
   "cell_type": "markdown",
   "metadata": {},
   "source": [
    "# 2. Generate derived DEM products"
   ]
  },
  {
   "cell_type": "code",
   "execution_count": null,
   "metadata": {},
   "outputs": [
    {
     "name": "stdout",
     "output_type": "stream",
     "text": [
      "DEM NAME: dem\n",
      "OUTPUT FOLDER: ..\\habitat_derivatives\\dem\n",
      "  Successfully deleted Temporary Workspace: C:\\Users\\ageglio\\AppData\\Local\\Temp\\2\\tmpfd665toz   \n",
      "  Successfully deleted Local Temporary Workspace: ..\\habitat_derivatives\\dem\\temp            \n",
      "Temporary file cleanup process completed successfully.                           \n",
      "Generating products ['shannon_index']\n",
      "Processing tile 25/594                                                          \r"
     ]
    }
   ],
   "source": [
    "# Generate output file paths\n",
    "# Define the output folder path for habitat derivates\n",
    "out_folder = \"..\\\\habitat_derivatives\"\n",
    "# Create an instance of the HabitatDerivatives class with the specified parameters\n",
    "habitat_derivatives = HabitatDerivatives(\n",
    "                                        input_dem=input_dem, \n",
    "                                        output_folder=out_folder,\n",
    "                                        products=products,\n",
    "                                        shannon_window=9,\n",
    "                                        fill_iterations=1,\n",
    "                                        fill_method=None,\n",
    "                                        chunk_size=32,\n",
    "                                        generate_boundary=True\n",
    "                                        )\n",
    "habitat_derivatives.process_dem()"
   ]
  },
  {
   "cell_type": "code",
   "execution_count": null,
   "metadata": {},
   "outputs": [],
   "source": [
    "# Trim the backscatter (bs) to the extent of the DEM\n",
    "if 'input_bs' in locals() and input_bs:\n",
    "    print(\"TRIMMING BACKSCATTER TO DEM EXTENT\")\n",
    "    # intitialize the Inpainter class with the input DEM and output folder\n",
    "    inpainter = Inpainter(input_dem, save_path=out_folder)\n",
    "    # trim the backscatter raster using the binary mask\n",
    "    binary_mask, dissolved_polygon = inpainter.get_data_boundary()\n",
    "    out_bs = inpainter.trim_raster(input_bs, binary_mask, overwrite=False)\n",
    "    # Clean up the workspace\n",
    "    WorkspaceCleaner(inpainter).clean_up()\n",
    "    print(\"TRIMMED BACKSCATTER:\", out_bs)\n",
    "else:\n",
    "    print(\"no backscatter provided\")"
   ]
  },
  {
   "cell_type": "markdown",
   "metadata": {},
   "source": [
    "## 3. Create geomorphons landforms using arcpy 3.4"
   ]
  },
  {
   "cell_type": "code",
   "execution_count": null,
   "metadata": {},
   "outputs": [],
   "source": [
    "# create original landforms from ArcGIS Pro\n",
    "landforms = Landforms(input_dem)\n",
    "landforms.calculate_geomorphon_landforms()\n",
    "\n",
    "# calculate the 10class solution\n",
    "output_file10c = landforms.classify_bathymorphons(classes=\"10c\")\n",
    "print(f\"Modified raster data saved to {output_file10c}\")\n",
    "\n",
    "# # calculate the 6class solution\n",
    "output_file6c = landforms.classify_bathymorphons(classes=\"6c\")\n",
    "print(f\"Modified raster data saved to {output_file6c}\")\n",
    "\n",
    "# # calculate the 5class solution\n",
    "output_file5c = landforms.classify_bathymorphons(classes=\"5c\")\n",
    "print(f\"Modified raster data saved to {output_file5c}\")\n",
    "\n",
    "# # calculate the 4class solution\n",
    "output_file4c = landforms.classify_bathymorphons(classes=\"4c\")\n",
    "print(f\"Modified raster data saved to {output_file4c}\")"
   ]
  },
  {
   "cell_type": "code",
   "execution_count": null,
   "metadata": {},
   "outputs": [],
   "source": [
    "## If you want to save the landforms classification histogram and metadata\n",
    "Landforms.analyze_raster_data(output_file6c)"
   ]
  },
  {
   "cell_type": "markdown",
   "metadata": {},
   "source": [
    "# 4. Tracklines to shapefile"
   ]
  },
  {
   "cell_type": "code",
   "execution_count": null,
   "metadata": {},
   "outputs": [],
   "source": [
    "# allowing the user to run all without executing the trackline portion\n",
    "assert 1==2"
   ]
  },
  {
   "cell_type": "code",
   "execution_count": null,
   "metadata": {},
   "outputs": [],
   "source": [
    "from shapely.geometry import LineString, Point, Polygon\n",
    "import geopandas as gpd"
   ]
  },
  {
   "cell_type": "code",
   "execution_count": null,
   "metadata": {},
   "outputs": [],
   "source": [
    "# Input path to tracklines folders from Qimera\n",
    "tracklines_folders_paths = r\"C:\\Users\\ageglio\\OneDrive - DOI\\Documents - Reef Mapping\\Tracks_Data_Release_NLMI_Reefs\\Tracklines\\*\\*\"\n",
    "tracklines_folders = glob.glob(tracklines_folders_paths)\n",
    "\n",
    "# Define the output folder path for shapefiles\n",
    "out_folder = \"shapefiles\"\n",
    "os.makedirs(out_folder, exist_ok=True)\n",
    "\n",
    "trackline_folder = tracklines_folders[4] #<------------------------ CHANGE INDEX ID\n",
    "print(\"folder path chosen: \", trackline_folder)"
   ]
  },
  {
   "cell_type": "markdown",
   "metadata": {},
   "source": [
    "## 3b. combine and convert tracklines to a shapefile"
   ]
  },
  {
   "cell_type": "code",
   "execution_count": null,
   "metadata": {},
   "outputs": [],
   "source": [
    "def create_tracklines(trackline_folder):\n",
    "    tracklines_files = glob.glob(os.path.join(trackline_folder, \"*.txt\"))\n",
    "    reef_name = os.path.basename(trackline_folder)\n",
    "    print(\"creating tracklines shapefile for: \", reef_name)\n",
    "    output_shapefile_folder = os.path.join(out_folder, reef_name)\n",
    "    os.makedirs(output_shapefile_folder, exist_ok=True)\n",
    "    output_shapefile = os.path.join(output_shapefile_folder, f\"{reef_name}.shp\")\n",
    "\n",
    "    # Concatenate all dataframes in the list into a single dataframe\n",
    "    tracklines = pd.concat([pd.read_csv(file, delimiter=',', header=None) for file in tracklines_files], ignore_index=True)\n",
    "    tracklines.columns = [\"UTC\", \"X\", \"Y\", \"Delta\"]\n",
    "\n",
    "    # Get the lat lon coordinates of the raw combined tracklines file\n",
    "    xy = GetCoordinates.convert_tracklines_to_lat_lon(tracklines, from_wkt=\"wgs84_16N_OGC_WKT.txt\", wgs84_wkt=\"wgs84_OGC_WKT.txt\")\n",
    "\n",
    "    # Create a GeoDataFrame and save to a shapefile\n",
    "    gpd.GeoDataFrame(geometry=[LineString(xy)], crs=\"EPSG:4326\").to_file(output_shapefile)\n",
    "\n",
    "create_tracklines(trackline_folder)\n"
   ]
  }
 ],
 "metadata": {
  "kernelspec": {
   "display_name": "arcpy3.4",
   "language": "python",
   "name": "python3"
  },
  "language_info": {
   "codemirror_mode": {
    "name": "ipython",
    "version": 3
   },
   "file_extension": ".py",
   "mimetype": "text/x-python",
   "name": "python",
   "nbconvert_exporter": "python",
   "pygments_lexer": "ipython3",
   "version": "3.11.8"
  }
 },
 "nbformat": 4,
 "nbformat_minor": 2
}
