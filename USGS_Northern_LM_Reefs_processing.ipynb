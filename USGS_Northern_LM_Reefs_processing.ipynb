{
 "cells": [
  {
   "cell_type": "code",
   "execution_count": null,
   "metadata": {},
   "outputs": [],
   "source": [
    "import sys\n",
    "sys.path.append(\"../src\")\n",
    "from utils import Utils\n",
    "from landforms import Landforms\n",
    "from extents import GetExtents\n",
    "from processDem import ProcessDem\n",
    "from rasterMasking import RasterMasking\n",
    "import os\n",
    "import glob"
   ]
  },
  {
   "cell_type": "markdown",
   "metadata": {},
   "source": [
    "# 1. Indexing the Tiff files"
   ]
  },
  {
   "cell_type": "code",
   "execution_count": null,
   "metadata": {},
   "outputs": [],
   "source": [
    "## Manual input list of the DEM and backscatter to be used\n",
    "# input_dem =[path/to/your/dem1.tif, path/to/your/dem2.tif, ...]\n",
    "# input_bs = [path/to/your/backscatter1.tif, path/to/your/backscatter2.tif, ...]\n",
    "\n",
    "# The first listed input dem will be the basis for alignment\n",
    "input_dems = [\n",
    "            r\"C:\\Users\\ageglio\\Desktop\\test_dem_2\\TB_2\\1m\\TB_depth_1m.tif\",\n",
    "            r\"C:\\Users\\ageglio\\Desktop\\test_dem_2\\TB_2\\halfm\\TB_depth_halfm.tif\",\n",
    "            r\"C:\\Users\\ageglio\\Desktop\\test_dem_2\\TB_2\\quaterm\\TB_depth_quaterm.tif\"\n",
    "]\n",
    "# Backscatter files can be empty if not available, e.g. input_bs = []\n",
    "# Backscatter files should be aligned with the DEMs, i.e. same resolution and extent\n",
    "# If not aligned, the script will use the first DEM as reference to align the backscatter files\n",
    "# Backscatter files should have \"BS\" in their filename to be recognized as backscatter files\n",
    "input_bss = [r\"C:\\Users\\ageglio\\Desktop\\test_dem_2\\TB_2\\1m\\TB_BS_1m.tif\",\n",
    "            r\"C:\\Users\\ageglio\\Desktop\\test_dem_2\\TB_2\\halfm\\TB_BS_halfm.tif\",\n",
    "            r\"C:\\Users\\ageglio\\Desktop\\test_dem_2\\TB_2\\quaterm\\TB_BS_quaterm.tif\"\n",
    "]\n",
    "# flatten lists\n",
    "input_rasters_list = [r for r in input_dems + input_bss if os.path.exists(r)]\n",
    "# Define the products to be created\n",
    "# products = [\"slope\", \"aspect\", \"roughness\", \"tpi\", \"tri\", \"hillshade\", \"shannon_index\"]\n",
    "products = [\"slope\"]\n",
    "print(\"ORIGINAL Bathy:\", input_dems[0])\n",
    "print(\"ORIGINAL backscatter:\", None if not input_bss else input_bss[0])\n",
    "print(\"PRODUCTS:\", products)\n",
    "GetExtents.return_min_max_tif_df([input_dems[0]])\n",
    "intersection_mask, aligned_rasters = RasterMasking.return_valid_data_mask_intersection(input_rasters_list)\n",
    "bss = [f for f in aligned_rasters if 'bs' in f.lower()]\n",
    "dems = [f for f in aligned_rasters if 'bs' not in f.lower()]\n",
    "print(\"Aligned DEMs:\", dems)\n",
    "print(\"Aligned Backsatter:\", bss)"
   ]
  },
  {
   "cell_type": "markdown",
   "metadata": {},
   "source": [
    "# 2. Generate derived DEM products"
   ]
  },
  {
   "cell_type": "code",
   "execution_count": null,
   "metadata": {},
   "outputs": [],
   "source": [
    "# Generate terrain products of all of the dems and align the backscatter files\n",
    "for input_dem, input_bs in zip(dems, bss):\n",
    "    # Create an instance of the ProcessDEM class with the specified parameters\n",
    "    generateHabitatDerivates = ProcessDem(\n",
    "                                    input_dem=input_dem,\n",
    "                                    input_bs=input_bs,\n",
    "                                    binary_mask=intersection_mask,\n",
    "                                    products=products,\n",
    "                                    shannon_window=[3, 9, 21],\n",
    "                                    fill_method=\"IDW\",\n",
    "                                    fill_iterations=1,\n",
    "                                    chunk_size=None,  # Use default chunk size\n",
    "                                    generate_boundary=True\n",
    "                                    )\n",
    "    generateHabitatDerivates.process_dem()"
   ]
  },
  {
   "cell_type": "markdown",
   "metadata": {},
   "source": [
    "## 3. Create geomorphons landforms using arcpy 3.4"
   ]
  },
  {
   "cell_type": "code",
   "execution_count": null,
   "metadata": {},
   "outputs": [],
   "source": [
    "# create original landforms from ArcGIS Pro\n",
    "for input_dem in input_dems:\n",
    "    filled_dem = os.path.join(os.path.dirname(input_dem), \"filled\", Utils.sanitize_path_to_name(input_dem) + \"_filled.tif\")\n",
    "    Landforms(filled_dem).generate_landforms()\n",
    "    # Clean up additional files after processing\n",
    "    Utils.remove_additional_files(directory=os.path.dirname(input_dem))"
   ]
  },
  {
   "cell_type": "code",
   "execution_count": null,
   "metadata": {},
   "outputs": [],
   "source": [
    "## If you want to save the landforms classification histogram and metadata\n",
    "classes = \"10\"\n",
    "input_dem = filled_dem\n",
    "raster_nc = os.path.join(os.path.dirname(os.path.dirname(input_dem)), \"geomorphons\", Utils.sanitize_path_to_name(input_dem)+f\"_{classes}c.tif\")\n",
    "Landforms.analyze_geomorphon_data(raster_nc)\n",
    "Utils.remove_additional_files(directory=os.path.dirname(input_dem))"
   ]
  },
  {
   "cell_type": "markdown",
   "metadata": {},
   "source": [
    "# 4. Tracklines to shapefile"
   ]
  },
  {
   "cell_type": "code",
   "execution_count": null,
   "metadata": {},
   "outputs": [],
   "source": [
    "# allowing the user to run all without executing the trackline portion\n",
    "assert 1==2"
   ]
  },
  {
   "cell_type": "code",
   "execution_count": null,
   "metadata": {},
   "outputs": [],
   "source": [
    "from shapely.geometry import LineString, Point, Polygon\n",
    "import geopandas as gpd"
   ]
  },
  {
   "cell_type": "code",
   "execution_count": null,
   "metadata": {},
   "outputs": [],
   "source": [
    "# Input path to tracklines folders from Qimera\n",
    "tracklines_folders_paths = r\"C:\\Users\\ageglio\\OneDrive - DOI\\Documents - Reef Mapping\\Tracks_Data_Release_NLMI_Reefs\\Tracklines\\*\\*\"\n",
    "tracklines_folders = glob.glob(tracklines_folders_paths)\n",
    "\n",
    "# Define the output folder path for shapefiles\n",
    "out_folder = \"shapefiles\"\n",
    "os.makedirs(out_folder, exist_ok=True)\n",
    "\n",
    "trackline_folder = tracklines_folders[4] #<------------------------ CHANGE INDEX ID\n",
    "print(\"folder path chosen: \", trackline_folder)"
   ]
  },
  {
   "cell_type": "markdown",
   "metadata": {},
   "source": [
    "## 3b. combine and convert tracklines to a shapefile"
   ]
  },
  {
   "cell_type": "code",
   "execution_count": null,
   "metadata": {},
   "outputs": [],
   "source": [
    "def create_tracklines(trackline_folder):\n",
    "    tracklines_files = glob.glob(os.path.join(trackline_folder, \"*.txt\"))\n",
    "    reef_name = os.path.basename(trackline_folder)\n",
    "    print(\"creating tracklines shapefile for: \", reef_name)\n",
    "    output_shapefile_folder = os.path.join(out_folder, reef_name)\n",
    "    os.makedirs(output_shapefile_folder, exist_ok=True)\n",
    "    output_shapefile = os.path.join(output_shapefile_folder, f\"{reef_name}.shp\")\n",
    "\n",
    "    # Concatenate all dataframes in the list into a single dataframe\n",
    "    tracklines = pd.concat([pd.read_csv(file, delimiter=',', header=None) for file in tracklines_files], ignore_index=True)\n",
    "    tracklines.columns = [\"UTC\", \"X\", \"Y\", \"Delta\"]\n",
    "\n",
    "    # Get the lat lon coordinates of the raw combined tracklines file\n",
    "    xy = GetCoordinates.convert_tracklines_to_lat_lon(tracklines, from_wkt=\"wgs84_16N_OGC_WKT.txt\", wgs84_wkt=\"wgs84_OGC_WKT.txt\")\n",
    "\n",
    "    # Create a GeoDataFrame and save to a shapefile\n",
    "    gpd.GeoDataFrame(geometry=[LineString(xy)], crs=\"EPSG:4326\").to_file(output_shapefile)\n",
    "\n",
    "create_tracklines(trackline_folder)\n"
   ]
  }
 ],
 "metadata": {
  "kernelspec": {
   "display_name": "arcpy3.4",
   "language": "python",
   "name": "python3"
  },
  "language_info": {
   "codemirror_mode": {
    "name": "ipython",
    "version": 3
   },
   "file_extension": ".py",
   "mimetype": "text/x-python",
   "name": "python",
   "nbconvert_exporter": "python",
   "pygments_lexer": "ipython3",
   "version": "3.11.8"
  }
 },
 "nbformat": 4,
 "nbformat_minor": 2
}
