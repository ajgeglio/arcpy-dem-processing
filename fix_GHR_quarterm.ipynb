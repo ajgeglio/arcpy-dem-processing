{
 "cells": [
  {
   "cell_type": "code",
   "execution_count": 1,
   "id": "94cc5aec",
   "metadata": {},
   "outputs": [],
   "source": [
    "import sys\n",
    "sys.path.append(\"../src\")\n",
    "from utils import Utils, demUtils\n",
    "from inpainter import Inpainter\n",
    "# from landforms import Landforms\n",
    "# from extents import GetCoordinates\n",
    "# from processDem import ProcessDem\n",
    "# from metafunctions import MetaFunctions\n",
    "import os\n",
    "import glob\n",
    "import arcpy\n",
    "from arcpy.sa import *\n",
    "arcpy.env.overwriteOutput = True"
   ]
  },
  {
   "cell_type": "code",
   "execution_count": 2,
   "id": "3a2d65fe",
   "metadata": {},
   "outputs": [],
   "source": [
    "# Aspect has correct mask\n",
    "aspect_quarterm = r\"C:\\Users\\ageglio\\Desktop\\test_dem_products\\GHR_2\\GHR_processed\\quarterm\\GHR_aspect_quaterm.tif\"\n",
    "original_coordinate_system = arcpy.Describe(aspect_quarterm).spatialReference\n",
    "arcpy.env.outputCoordinateSystem = original_coordinate_system"
   ]
  },
  {
   "cell_type": "code",
   "execution_count": 3,
   "id": "19f14c13",
   "metadata": {},
   "outputs": [],
   "source": [
    "geoform4_q = r\"C:\\Users\\ageglio\\Desktop\\test_dem_products\\GHR_2\\GHR_processed\\quarterm\\GHR_geoform4_quaterm.tif\"\n",
    "geoform5_q = r\"C:\\Users\\ageglio\\Desktop\\test_dem_products\\GHR_2\\GHR_processed\\quarterm\\GHR_geoform5_quaterm.tif\"\n",
    "geoform6_q = r\"C:\\Users\\ageglio\\Desktop\\test_dem_products\\GHR_2\\GHR_processed\\quarterm\\GHR_geoform6_quaterm.tif\"\n",
    "geoform10_q = r\"C:\\Users\\ageglio\\Desktop\\test_dem_products\\GHR_2\\GHR_processed\\quarterm\\GHR_geoform10_quaterm.tif\"\n"
   ]
  },
  {
   "cell_type": "code",
   "execution_count": 4,
   "id": "f775f958",
   "metadata": {},
   "outputs": [],
   "source": [
    "geoform4_h = r\"C:\\Users\\ageglio\\Desktop\\test_dem_products\\GHR_2\\GHR_processed\\halfm\\GHR_geoform4_halfm.tif\"\n",
    "geoform5_h = r\"C:\\Users\\ageglio\\Desktop\\test_dem_products\\GHR_2\\GHR_processed\\halfm\\GHR_geoform5_halfm.tif\"\n",
    "geoform6_h = r\"C:\\Users\\ageglio\\Desktop\\test_dem_products\\GHR_2\\GHR_processed\\halfm\\GHR_geoform6_halfm.tif\"\n",
    "geoform10_h = r\"C:\\Users\\ageglio\\Desktop\\test_dem_products\\GHR_2\\GHR_processed\\halfm\\GHR_geoform10_halfm.tif\"\n"
   ]
  },
  {
   "cell_type": "markdown",
   "id": "cd6a15c9",
   "metadata": {},
   "source": [
    "## mask out the halfm layers to the missing mask"
   ]
  },
  {
   "cell_type": "code",
   "execution_count": null,
   "id": "4b168127",
   "metadata": {},
   "outputs": [],
   "source": [
    "# half-m geoform resampled to quarterm\n",
    "geophorm_h = geoform10_h\n",
    "geoform_q = geoform10_q\n",
    "geoform_q_mem = Raster(geoform_q)\n",
    "\n",
    "# get the binary mask\n",
    "complete_binary_mask = arcpy.sa.Con(arcpy.sa.IsNull(arcpy.Raster(aspect_quarterm)), 0, 1)\n",
    "geoform_binary_mask = arcpy.sa.Con(arcpy.sa.IsNull(arcpy.Raster(geoform_q)), 0, 1)\n",
    "# half-m missing mask\n",
    "missing_mask_quarterm =  complete_binary_mask - geoform_binary_mask\n",
    "\n",
    "# We get the values from the half-m (closest available data)\n",
    "geoform_resampled_halfm = arcpy.ia.Resample(geophorm_h, resampling_type=\"NearestNeighbor\", input_cellsize=0.5, output_cellsize=0.25)\n",
    "geoform_resampled_halfm_masked = geoform_resampled_halfm * missing_mask_quarterm\n",
    "geoform_resampled_halfm_valid = SetNull(geoform_resampled_halfm_masked == 0, geoform_resampled_halfm_masked)\n",
    "geoform_mem = SetNull(geoform_q_mem == 0, geoform_q_mem)\n",
    "\n",
    "mosaic_raster = arcpy.management.MosaicToNewRaster(\n",
    "    input_rasters=[geoform_mem, geoform_resampled_halfm_valid],\n",
    "    output_location=r\"memory\",  # Use memory workspace for temporary storage\n",
    "    raster_dataset_name_with_extension=\"mosaic_result\",\n",
    "    coordinate_system_for_the_raster=original_coordinate_system,  \n",
    "    pixel_type=\"\", # Optional: match input rasters\n",
    "    cellsize=0.25, # Optional: match input rasters\n",
    "    number_of_bands=1,\n",
    "    mosaic_method=\"LAST\",\n",
    "    mosaic_colormap_mode=\"FIRST\"\n",
    ")\n",
    "\n",
    "name = Utils.sanitize_path_to_name(geoform_q)\n",
    "cleaned_raster = SetNull(mosaic_raster, mosaic_raster, \"VALUE = 0\")\n",
    "cleaned_raster.save(r\"C:\\Users\\ageglio\\Desktop\\test_dem_products\" + os.sep + f\"{name}_cleaned.tif\")"
   ]
  }
 ],
 "metadata": {
  "kernelspec": {
   "display_name": "arcpy3.4",
   "language": "python",
   "name": "python3"
  },
  "language_info": {
   "codemirror_mode": {
    "name": "ipython",
    "version": 3
   },
   "file_extension": ".py",
   "mimetype": "text/x-python",
   "name": "python",
   "nbconvert_exporter": "python",
   "pygments_lexer": "ipython3",
   "version": "3.11.8"
  }
 },
 "nbformat": 4,
 "nbformat_minor": 5
}
