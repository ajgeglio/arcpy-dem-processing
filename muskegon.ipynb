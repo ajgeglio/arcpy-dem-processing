{
 "cells": [
  {
   "cell_type": "code",
   "execution_count": 1,
   "id": "cbac5c3e",
   "metadata": {},
   "outputs": [],
   "source": [
    "import glob\n",
    "import os\n",
    "import sys\n",
    "sys.path.append(\"../src\")\n",
    "from gdalUtils import GdalUtils\n",
    "from utils import Utils\n",
    "import shutil\n",
    "# from rasterUtils import RasterUtils"
   ]
  },
  {
   "cell_type": "markdown",
   "id": "85c24a95",
   "metadata": {},
   "source": [
    "# Define Folders"
   ]
  },
  {
   "cell_type": "code",
   "execution_count": 2,
   "id": "8533a949",
   "metadata": {},
   "outputs": [],
   "source": [
    "directory = r\"D:\\sfm_muskegon_20230724\"\n",
    "\n",
    "# 25 m tiles\n",
    "depth = \"75m\"\n",
    "type = \"orthomosaic\"\n",
    "tiles_dir = os.path.join(directory, depth, f\"20230724_{depth}_{type}_tiles\")"
   ]
  },
  {
   "cell_type": "markdown",
   "id": "3a72fb3d",
   "metadata": {},
   "source": [
    "# Chunk into groups of 10gb and move into individual folders"
   ]
  },
  {
   "cell_type": "code",
   "execution_count": 3,
   "id": "a9376716",
   "metadata": {},
   "outputs": [],
   "source": [
    "# chunk into 10gb folders\n",
    "# Utils.chunk_and_move_files(Utils.natural_sort(tiles_dir), tiles_dir, chunk_size_gb=10)"
   ]
  },
  {
   "cell_type": "markdown",
   "id": "8f61b0d5",
   "metadata": {},
   "source": [
    "## Combining into 10GB Files"
   ]
  },
  {
   "cell_type": "code",
   "execution_count": 4,
   "id": "14100340",
   "metadata": {},
   "outputs": [
    {
     "name": "stdout",
     "output_type": "stream",
     "text": [
      "D:\\sfm_muskegon_20230724\\75m\\20230724_75m_orthomosaic_tiles\\chunk_1\n",
      "D:\\sfm_muskegon_20230724\\75m\\20230724_75m_orthomosaic_tiles\\chunk_2\n",
      "D:\\sfm_muskegon_20230724\\75m\\20230724_75m_orthomosaic_tiles\\chunk_3\n",
      "D:\\sfm_muskegon_20230724\\75m\\20230724_75m_orthomosaic_tiles\\chunk_4\n",
      "D:\\sfm_muskegon_20230724\\75m\\20230724_75m_orthomosaic_tiles\\chunk_5\n",
      "D:\\sfm_muskegon_20230724\\75m\\20230724_75m_orthomosaic_tiles\\chunk_6\n"
     ]
    }
   ],
   "source": [
    "# define which directory to run chunking on\n",
    "chunk_folders = Utils.list_subfolders(tiles_dir)\n",
    "all_idx = [i for i, f in enumerate(chunk_folders)]\n",
    "# Select specific indices\n",
    "selected_indices = all_idx\n",
    "for idx in selected_indices:\n",
    "    chunk_paths = chunk_folders[idx]\n",
    "    print(chunk_paths)\n",
    "    # merged_dem_path = GdalUtils.merge_raster_gdal(chunk_paths, output_format=\"COG\", tile_size=512, remove=False)\n",
    "\n",
    "\n"
   ]
  },
  {
   "cell_type": "code",
   "execution_count": 5,
   "id": "6cc8c73e",
   "metadata": {},
   "outputs": [
    {
     "name": "stdout",
     "output_type": "stream",
     "text": [
      "D:\\sfm_muskegon_20230724\\75m\\20230724_75m_orthomosaic_tiles\\orthomosaic_muskegon_75m_3.cog.tif\n"
     ]
    },
    {
     "name": "stderr",
     "output_type": "stream",
     "text": [
      "c:\\Users\\ageglio\\AppData\\Local\\miniforge3\\envs\\img_processing\\Lib\\site-packages\\osgeo\\gdal.py:287: FutureWarning: Neither gdal.UseExceptions() nor gdal.DontUseExceptions() has been explicitly called. In GDAL 4.0, exceptions will be enabled by default.\n",
      "  warnings.warn(\n"
     ]
    },
    {
     "name": "stdout",
     "output_type": "stream",
     "text": [
      "External overviews (.ovr) created for D:\\sfm_muskegon_20230724\\75m\\20230724_75m_orthomosaic_tiles\\orthomosaic_muskegon_75m_3.cog.tif using nearest resampling.\n"
     ]
    }
   ],
   "source": [
    "# convert to cog\n",
    "chunks = glob.glob(os.path.join(tiles_dir, \"*.tif\"))\n",
    "all_idx = [i for i, f in enumerate(chunks)]\n",
    "selected_indices = all_idx\n",
    "selected_indices = [3]\n",
    "selected_indices = [j-1 for j in selected_indices]\n",
    "for idx in selected_indices:\n",
    "    chunk_cog = chunks[idx]\n",
    "    print(chunk_cog)\n",
    "    GdalUtils.build_cog_overviews(chunk_cog)\n",
    "    # GdalUtils.convert_to_cog(chunk)"
   ]
  }
 ],
 "metadata": {
  "kernelspec": {
   "display_name": "img_processing",
   "language": "python",
   "name": "python3"
  },
  "language_info": {
   "codemirror_mode": {
    "name": "ipython",
    "version": 3
   },
   "file_extension": ".py",
   "mimetype": "text/x-python",
   "name": "python",
   "nbconvert_exporter": "python",
   "pygments_lexer": "ipython3",
   "version": "3.11.4"
  }
 },
 "nbformat": 4,
 "nbformat_minor": 5
}
