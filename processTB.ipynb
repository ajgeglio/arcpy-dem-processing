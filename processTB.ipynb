{
 "cells": [
  {
   "cell_type": "code",
   "execution_count": 1,
   "id": "ebfc80c5",
   "metadata": {},
   "outputs": [],
   "source": [
    "import sys\n",
    "sys.path.append(\"../src\")\n",
    "from utils import Utils, demUtils\n",
    "from inpainter import Inpainter\n",
    "# from landforms import Landforms\n",
    "# from extents import GetCoordinates\n",
    "# from processDem import ProcessDem\n",
    "# from metafunctions import MetaFunctions\n",
    "import os\n",
    "import glob\n",
    "# import arcpy\n",
    "# from arcpy.sa import *"
   ]
  },
  {
   "cell_type": "code",
   "execution_count": 2,
   "id": "2100f91f",
   "metadata": {},
   "outputs": [],
   "source": [
    "intersection_masks = [r\"C:\\Users\\ageglio\\Desktop\\test_dem_products\\TB_2\\1m\\boundary_files\\TB_depth_1m_intersection_mask.tif\",\n",
    "                      r\"C:\\Users\\ageglio\\Desktop\\test_dem_products\\TB_2\\halfm\\boundary_files\\TB_depth_halfm_intersection_mask.tif\",\n",
    "                      r\"C:\\Users\\ageglio\\Desktop\\test_dem_products\\TB_2\\quaterm\\boundary_files\\TB_depth_quaterm_intersection_mask.tif\"]"
   ]
  },
  {
   "cell_type": "code",
   "execution_count": 3,
   "id": "2f65fcee",
   "metadata": {},
   "outputs": [],
   "source": [
    "intersection_1m = intersection_masks[0]\n",
    "aligned_intersection_halfm = demUtils.align_raster_to_another(intersection_1m, intersection_masks[1])\n",
    "aligned_intersection_quarterm = demUtils.align_raster_to_another(intersection_1m, intersection_masks[2])"
   ]
  },
  {
   "cell_type": "code",
   "execution_count": 4,
   "id": "1a8faf73",
   "metadata": {},
   "outputs": [
    {
     "name": "stdout",
     "output_type": "stream",
     "text": [
      "Valid data intersection mask saved to: C:\\Users\\ageglio\\Desktop\\test_dem_products\\TB_2\\1m\\valid_data_intersection_mask.tif\n"
     ]
    }
   ],
   "source": [
    "intersection_masks = [intersection_1m, aligned_intersection_halfm, aligned_intersection_quarterm]\n",
    "all_intersection_mask = demUtils.mask_intersector(intersection_masks)"
   ]
  },
  {
   "cell_type": "code",
   "execution_count": 5,
   "id": "3a9ca19d",
   "metadata": {},
   "outputs": [],
   "source": [
    "bathy_1m = r\"C:\\Users\\ageglio\\Desktop\\test_dem_products\\TB_2\\1m\\filled\\TB_depth_1m_filled.tif\"\n",
    "inpainter = Inpainter(bathy_1m, save_path=r\"C:\\Users\\ageglio\\Desktop\\test_dem_products\\TB_2\\TB_processed\")"
   ]
  },
  {
   "cell_type": "markdown",
   "id": "42d3b1b2",
   "metadata": {},
   "source": [
    "# 1m"
   ]
  },
  {
   "cell_type": "code",
   "execution_count": 6,
   "id": "20b77289",
   "metadata": {},
   "outputs": [
    {
     "name": "stdout",
     "output_type": "stream",
     "text": [
      "Trimmed raster saved to: C:\\Users\\ageglio\\Desktop\\test_dem_products\\TB_2\\TB_processed\\TB_depth_1m_filled_trimmed.tif\n"
     ]
    }
   ],
   "source": [
    "trimmed_1m = inpainter.trim_raster(bathy_1m, all_intersection_mask)"
   ]
  },
  {
   "cell_type": "code",
   "execution_count": 8,
   "id": "5e139ee1",
   "metadata": {},
   "outputs": [
    {
     "name": "stdout",
     "output_type": "stream",
     "text": [
      "Trimmed raster saved to: C:\\Users\\ageglio\\Desktop\\test_dem_products\\TB_2\\TB_processed\\TB_BS_1m_filled_trimmed.tif\n"
     ]
    }
   ],
   "source": [
    "aligned_1m_bs = r\"C:\\Users\\ageglio\\Desktop\\test_dem_products\\TB_2\\1m\\filled\\TB_BS_1m_filled.tif\"\n",
    "trimmed_1mbs = inpainter.trim_raster(aligned_1m_bs, all_intersection_mask)"
   ]
  },
  {
   "cell_type": "code",
   "execution_count": 9,
   "id": "ef641b03",
   "metadata": {},
   "outputs": [
    {
     "name": "stdout",
     "output_type": "stream",
     "text": [
      "Trimmed raster saved to: C:\\Users\\ageglio\\Desktop\\test_dem_products\\TB_2\\TB_processed\\TB_depth_1m_filled_10c_trimmed.tif\n",
      "Trimmed raster saved to: C:\\Users\\ageglio\\Desktop\\test_dem_products\\TB_2\\TB_processed\\TB_depth_1m_filled_4c_trimmed.tif\n",
      "Trimmed raster saved to: C:\\Users\\ageglio\\Desktop\\test_dem_products\\TB_2\\TB_processed\\TB_depth_1m_filled_5c_trimmed.tif\n",
      "Trimmed raster saved to: C:\\Users\\ageglio\\Desktop\\test_dem_products\\TB_2\\TB_processed\\TB_depth_1m_filled_6c_trimmed.tif\n",
      "Trimmed raster saved to: C:\\Users\\ageglio\\Desktop\\test_dem_products\\TB_2\\TB_processed\\TB_depth_1m_filled_bathymorphons_trimmed.tif\n"
     ]
    }
   ],
   "source": [
    "geomorph_1m_files = glob.glob(r\"C:\\Users\\ageglio\\Desktop\\test_dem_products\\TB_2\\1m\\geomorphons\\*.tif\")\n",
    "for file in geomorph_1m_files:\n",
    "    trimmed_version = inpainter.trim_raster(file, all_intersection_mask)"
   ]
  },
  {
   "cell_type": "code",
   "execution_count": 10,
   "id": "e3ae9744",
   "metadata": {},
   "outputs": [
    {
     "name": "stdout",
     "output_type": "stream",
     "text": [
      "Trimmed raster saved to: C:\\Users\\ageglio\\Desktop\\test_dem_products\\TB_2\\TB_processed\\TB_depth_1m_aspect_trimmed.tif\n",
      "Trimmed raster saved to: C:\\Users\\ageglio\\Desktop\\test_dem_products\\TB_2\\TB_processed\\TB_depth_1m_hillshade_trimmed.tif\n",
      "Trimmed raster saved to: C:\\Users\\ageglio\\Desktop\\test_dem_products\\TB_2\\TB_processed\\TB_depth_1m_roughness_trimmed.tif\n",
      "Trimmed raster saved to: C:\\Users\\ageglio\\Desktop\\test_dem_products\\TB_2\\TB_processed\\TB_depth_1m_shannon_index_21_trimmed.tif\n",
      "Trimmed raster saved to: C:\\Users\\ageglio\\Desktop\\test_dem_products\\TB_2\\TB_processed\\TB_depth_1m_shannon_index_3_trimmed.tif\n",
      "Trimmed raster saved to: C:\\Users\\ageglio\\Desktop\\test_dem_products\\TB_2\\TB_processed\\TB_depth_1m_shannon_index_9_trimmed.tif\n",
      "Trimmed raster saved to: C:\\Users\\ageglio\\Desktop\\test_dem_products\\TB_2\\TB_processed\\TB_depth_1m_slope_trimmed.tif\n",
      "Trimmed raster saved to: C:\\Users\\ageglio\\Desktop\\test_dem_products\\TB_2\\TB_processed\\TB_depth_1m_tpi_trimmed.tif\n",
      "Trimmed raster saved to: C:\\Users\\ageglio\\Desktop\\test_dem_products\\TB_2\\TB_processed\\TB_depth_1m_tri_trimmed.tif\n"
     ]
    }
   ],
   "source": [
    "habitat_1m_files = glob.glob(r\"C:\\Users\\ageglio\\Desktop\\test_dem_products\\TB_2\\1m\\habitat_derivatives\\*.tif\")\n",
    "for file in habitat_1m_files:\n",
    "    trimmed_version = inpainter.trim_raster(file, all_intersection_mask)"
   ]
  },
  {
   "cell_type": "markdown",
   "id": "f408d7d3",
   "metadata": {},
   "source": [
    "# halfm"
   ]
  },
  {
   "cell_type": "code",
   "execution_count": 11,
   "id": "11e9fee2",
   "metadata": {},
   "outputs": [
    {
     "name": "stdout",
     "output_type": "stream",
     "text": [
      "Trimmed raster saved to: C:\\Users\\ageglio\\Desktop\\test_dem_products\\TB_2\\TB_processed\\TB_depth_halfm_filled_aligned_trimmed.tif\n"
     ]
    }
   ],
   "source": [
    "bathy_halfm = r\"C:\\Users\\ageglio\\Desktop\\test_dem_products\\TB_2\\halfm\\filled\\TB_depth_halfm_filled.tif\"\n",
    "aligned_bathy_halfm = demUtils.align_raster_to_another(bathy_1m, bathy_halfm)\n",
    "trimmed_halfm = inpainter.trim_raster(aligned_bathy_halfm, all_intersection_mask)"
   ]
  },
  {
   "cell_type": "code",
   "execution_count": 13,
   "id": "8aa50a7b",
   "metadata": {},
   "outputs": [
    {
     "name": "stdout",
     "output_type": "stream",
     "text": [
      "Trimmed raster saved to: C:\\Users\\ageglio\\Desktop\\test_dem_products\\TB_2\\TB_processed\\TB_BS_halfm_filled_aligned_trimmed.tif\n"
     ]
    }
   ],
   "source": [
    "halfm_bs = r\"C:\\Users\\ageglio\\Desktop\\test_dem_products\\TB_2\\halfm\\filled\\TB_BS_halfm_filled.tif\"\n",
    "aligned_halfm_bs = demUtils.align_raster_to_another(bathy_1m, halfm_bs)\n",
    "trimmed_halfm_bs = inpainter.trim_raster(aligned_halfm_bs, all_intersection_mask)"
   ]
  },
  {
   "cell_type": "code",
   "execution_count": 14,
   "id": "0a4850b5",
   "metadata": {},
   "outputs": [
    {
     "name": "stdout",
     "output_type": "stream",
     "text": [
      "Trimmed raster saved to: C:\\Users\\ageglio\\Desktop\\test_dem_products\\TB_2\\TB_processed\\TB_depth_halfm_filled_10c_aligned_trimmed.tif\n",
      "Trimmed raster saved to: C:\\Users\\ageglio\\Desktop\\test_dem_products\\TB_2\\TB_processed\\TB_depth_halfm_filled_4c_aligned_trimmed.tif\n",
      "Trimmed raster saved to: C:\\Users\\ageglio\\Desktop\\test_dem_products\\TB_2\\TB_processed\\TB_depth_halfm_filled_5c_aligned_trimmed.tif\n",
      "Trimmed raster saved to: C:\\Users\\ageglio\\Desktop\\test_dem_products\\TB_2\\TB_processed\\TB_depth_halfm_filled_6c_aligned_trimmed.tif\n",
      "Trimmed raster saved to: C:\\Users\\ageglio\\Desktop\\test_dem_products\\TB_2\\TB_processed\\TB_depth_halfm_filled_bathymorphons_aligned_trimmed.tif\n"
     ]
    }
   ],
   "source": [
    "geomorph_halfm_files = glob.glob(r\"C:\\Users\\ageglio\\Desktop\\test_dem_products\\TB_2\\halfm\\geomorphons\\*.tif\")\n",
    "geomorph_halfm_files\n",
    "for file in geomorph_halfm_files:\n",
    "    aligned_version = demUtils.align_raster_to_another(bathy_1m, file)\n",
    "    trimmed_version = inpainter.trim_raster(aligned_version, all_intersection_mask)"
   ]
  },
  {
   "cell_type": "code",
   "execution_count": 15,
   "id": "0fd86624",
   "metadata": {},
   "outputs": [
    {
     "name": "stdout",
     "output_type": "stream",
     "text": [
      "Trimmed raster saved to: C:\\Users\\ageglio\\Desktop\\test_dem_products\\TB_2\\TB_processed\\TB_depth_halfm_aspect_aligned_trimmed.tif\n",
      "Trimmed raster saved to: C:\\Users\\ageglio\\Desktop\\test_dem_products\\TB_2\\TB_processed\\TB_depth_halfm_hillshade_aligned_trimmed.tif\n",
      "Trimmed raster saved to: C:\\Users\\ageglio\\Desktop\\test_dem_products\\TB_2\\TB_processed\\TB_depth_halfm_roughness_aligned_trimmed.tif\n",
      "Trimmed raster saved to: C:\\Users\\ageglio\\Desktop\\test_dem_products\\TB_2\\TB_processed\\TB_depth_halfm_shannon_index_21_aligned_trimmed.tif\n",
      "Trimmed raster saved to: C:\\Users\\ageglio\\Desktop\\test_dem_products\\TB_2\\TB_processed\\TB_depth_halfm_shannon_index_3_aligned_trimmed.tif\n",
      "Trimmed raster saved to: C:\\Users\\ageglio\\Desktop\\test_dem_products\\TB_2\\TB_processed\\TB_depth_halfm_shannon_index_9_aligned_trimmed.tif\n",
      "Trimmed raster saved to: C:\\Users\\ageglio\\Desktop\\test_dem_products\\TB_2\\TB_processed\\TB_depth_halfm_slope_aligned_trimmed.tif\n",
      "Trimmed raster saved to: C:\\Users\\ageglio\\Desktop\\test_dem_products\\TB_2\\TB_processed\\TB_depth_halfm_tpi_aligned_trimmed.tif\n",
      "Trimmed raster saved to: C:\\Users\\ageglio\\Desktop\\test_dem_products\\TB_2\\TB_processed\\TB_depth_halfm_tri_aligned_trimmed.tif\n"
     ]
    }
   ],
   "source": [
    "habitat_halfm_files = glob.glob(r\"C:\\Users\\ageglio\\Desktop\\test_dem_products\\TB_2\\halfm\\habitat_derivatives\\*.tif\")\n",
    "for file in habitat_halfm_files:\n",
    "    aligned_version = demUtils.align_raster_to_another(bathy_1m, file)\n",
    "    trimmed_version = inpainter.trim_raster(aligned_version, all_intersection_mask)"
   ]
  },
  {
   "cell_type": "markdown",
   "id": "5ced9b25",
   "metadata": {},
   "source": [
    "# QuarterM"
   ]
  },
  {
   "cell_type": "code",
   "execution_count": 16,
   "id": "a3db6707",
   "metadata": {},
   "outputs": [
    {
     "name": "stdout",
     "output_type": "stream",
     "text": [
      "Trimmed raster saved to: C:\\Users\\ageglio\\Desktop\\test_dem_products\\TB_2\\TB_processed\\TB_depth_quaterm_filled_aligned_trimmed.tif\n"
     ]
    }
   ],
   "source": [
    "bathy_quarterm = r\"C:\\Users\\ageglio\\Desktop\\test_dem_products\\TB_2\\quaterm\\filled\\TB_depth_quaterm_filled.tif\"\n",
    "aligned_bathy_quarterm = demUtils.align_raster_to_another(bathy_1m, bathy_quarterm)\n",
    "trimmed_quarterm = inpainter.trim_raster(aligned_bathy_quarterm, all_intersection_mask)"
   ]
  },
  {
   "cell_type": "code",
   "execution_count": 17,
   "id": "88e517ea",
   "metadata": {},
   "outputs": [
    {
     "name": "stdout",
     "output_type": "stream",
     "text": [
      "Trimmed raster saved to: C:\\Users\\ageglio\\Desktop\\test_dem_products\\TB_2\\TB_processed\\TB_BS_quaterm_filled_aligned_trimmed.tif\n"
     ]
    }
   ],
   "source": [
    "quarterm_bs = r\"C:\\Users\\ageglio\\Desktop\\test_dem_products\\TB_2\\quaterm\\filled\\TB_BS_quaterm_filled.tif\"\n",
    "aligned_quarterm_bs = demUtils.align_raster_to_another(bathy_1m, quarterm_bs)\n",
    "trimmed_quarterm_bs = inpainter.trim_raster(aligned_quarterm_bs, all_intersection_mask)"
   ]
  },
  {
   "cell_type": "code",
   "execution_count": 18,
   "id": "f521a75f",
   "metadata": {},
   "outputs": [
    {
     "name": "stdout",
     "output_type": "stream",
     "text": [
      "Trimmed raster saved to: C:\\Users\\ageglio\\Desktop\\test_dem_products\\TB_2\\TB_processed\\TB_depth_quaterm_filled_10c_aligned_trimmed.tif\n",
      "Trimmed raster saved to: C:\\Users\\ageglio\\Desktop\\test_dem_products\\TB_2\\TB_processed\\TB_depth_quaterm_filled_4c_aligned_trimmed.tif\n",
      "Trimmed raster saved to: C:\\Users\\ageglio\\Desktop\\test_dem_products\\TB_2\\TB_processed\\TB_depth_quaterm_filled_5c_aligned_trimmed.tif\n",
      "Trimmed raster saved to: C:\\Users\\ageglio\\Desktop\\test_dem_products\\TB_2\\TB_processed\\TB_depth_quaterm_filled_6c_aligned_trimmed.tif\n",
      "Trimmed raster saved to: C:\\Users\\ageglio\\Desktop\\test_dem_products\\TB_2\\TB_processed\\TB_depth_quaterm_filled_bathymorphons_aligned_trimmed.tif\n"
     ]
    }
   ],
   "source": [
    "geomorph_quarterm_files = glob.glob(r\"C:\\Users\\ageglio\\Desktop\\test_dem_products\\TB_2\\quaterm\\geomorphons\\*.tif\")\n",
    "for file in geomorph_quarterm_files:\n",
    "    aligned_version = demUtils.align_raster_to_another(bathy_1m, file)\n",
    "    trimmed_version = inpainter.trim_raster(aligned_version, all_intersection_mask)"
   ]
  },
  {
   "cell_type": "code",
   "execution_count": 19,
   "id": "17da0c21",
   "metadata": {},
   "outputs": [
    {
     "name": "stdout",
     "output_type": "stream",
     "text": [
      "Trimmed raster saved to: C:\\Users\\ageglio\\Desktop\\test_dem_products\\TB_2\\TB_processed\\TB_depth_quaterm_aspect_aligned_trimmed.tif\n",
      "Trimmed raster saved to: C:\\Users\\ageglio\\Desktop\\test_dem_products\\TB_2\\TB_processed\\TB_depth_quaterm_hillshade_aligned_trimmed.tif\n",
      "Trimmed raster saved to: C:\\Users\\ageglio\\Desktop\\test_dem_products\\TB_2\\TB_processed\\TB_depth_quaterm_roughness_aligned_trimmed.tif\n",
      "Trimmed raster saved to: C:\\Users\\ageglio\\Desktop\\test_dem_products\\TB_2\\TB_processed\\TB_depth_quaterm_shannon_index_21_aligned_trimmed.tif\n",
      "Trimmed raster saved to: C:\\Users\\ageglio\\Desktop\\test_dem_products\\TB_2\\TB_processed\\TB_depth_quaterm_shannon_index_3_aligned_trimmed.tif\n",
      "Trimmed raster saved to: C:\\Users\\ageglio\\Desktop\\test_dem_products\\TB_2\\TB_processed\\TB_depth_quaterm_shannon_index_9_aligned_trimmed.tif\n",
      "Trimmed raster saved to: C:\\Users\\ageglio\\Desktop\\test_dem_products\\TB_2\\TB_processed\\TB_depth_quaterm_slope_aligned_trimmed.tif\n",
      "Trimmed raster saved to: C:\\Users\\ageglio\\Desktop\\test_dem_products\\TB_2\\TB_processed\\TB_depth_quaterm_tpi_aligned_trimmed.tif\n",
      "Trimmed raster saved to: C:\\Users\\ageglio\\Desktop\\test_dem_products\\TB_2\\TB_processed\\TB_depth_quaterm_tri_aligned_trimmed.tif\n"
     ]
    }
   ],
   "source": [
    "habitat_quarterm_files = glob.glob(r\"C:\\Users\\ageglio\\Desktop\\test_dem_products\\TB_2\\quaterm\\habitat_derivatives\\*.tif\")\n",
    "for file in habitat_quarterm_files:\n",
    "    aligned_version = demUtils.align_raster_to_another(bathy_1m, file)\n",
    "    trimmed_version = inpainter.trim_raster(aligned_version, all_intersection_mask)"
   ]
  },
  {
   "cell_type": "code",
   "execution_count": 21,
   "id": "8359fa00",
   "metadata": {},
   "outputs": [
    {
     "name": "stdout",
     "output_type": "stream",
     "text": [
      "Could not remove C:\\Users\\ageglio\\Desktop\\test_dem_products\\TB_2\\1m\\valid_data_intersection_mask.tif.ovr: [WinError 32] The process cannot access the file because it is being used by another process: 'C:\\\\Users\\\\ageglio\\\\Desktop\\\\test_dem_products\\\\TB_2\\\\1m\\\\valid_data_intersection_mask.tif.ovr'\n",
      "Could not remove C:\\Users\\ageglio\\Desktop\\test_dem_products\\TB_2\\TB_processed\\TB_BS_1m_filled_trimmed.tif.ovr: [WinError 32] The process cannot access the file because it is being used by another process: 'C:\\\\Users\\\\ageglio\\\\Desktop\\\\test_dem_products\\\\TB_2\\\\TB_processed\\\\TB_BS_1m_filled_trimmed.tif.ovr'\n",
      "Could not remove C:\\Users\\ageglio\\Desktop\\test_dem_products\\TB_2\\TB_processed\\TB_BS_halfm_filled_aligned_trimmed.tif.ovr: [WinError 32] The process cannot access the file because it is being used by another process: 'C:\\\\Users\\\\ageglio\\\\Desktop\\\\test_dem_products\\\\TB_2\\\\TB_processed\\\\TB_BS_halfm_filled_aligned_trimmed.tif.ovr'\n",
      "Could not remove C:\\Users\\ageglio\\Desktop\\test_dem_products\\TB_2\\TB_processed\\TB_depth_1m_filled_trimmed.tif.ovr: [WinError 32] The process cannot access the file because it is being used by another process: 'C:\\\\Users\\\\ageglio\\\\Desktop\\\\test_dem_products\\\\TB_2\\\\TB_processed\\\\TB_depth_1m_filled_trimmed.tif.ovr'\n",
      "Could not remove C:\\Users\\ageglio\\Desktop\\test_dem_products\\TB_2\\TB_processed\\TB_depth_halfm_filled_10c_aligned_trimmed.tif.ovr: [WinError 32] The process cannot access the file because it is being used by another process: 'C:\\\\Users\\\\ageglio\\\\Desktop\\\\test_dem_products\\\\TB_2\\\\TB_processed\\\\TB_depth_halfm_filled_10c_aligned_trimmed.tif.ovr'\n",
      "Could not remove C:\\Users\\ageglio\\Desktop\\test_dem_products\\TB_2\\TB_processed\\TB_depth_halfm_slope_aligned_trimmed.tif.ovr: [WinError 32] The process cannot access the file because it is being used by another process: 'C:\\\\Users\\\\ageglio\\\\Desktop\\\\test_dem_products\\\\TB_2\\\\TB_processed\\\\TB_depth_halfm_slope_aligned_trimmed.tif.ovr'\n",
      "Could not remove C:\\Users\\ageglio\\Desktop\\test_dem_products\\TB_2\\TB_processed\\TB_depth_quaterm_filled_aligned_trimmed.tif.ovr: [WinError 32] The process cannot access the file because it is being used by another process: 'C:\\\\Users\\\\ageglio\\\\Desktop\\\\test_dem_products\\\\TB_2\\\\TB_processed\\\\TB_depth_quaterm_filled_aligned_trimmed.tif.ovr'\n",
      "No additional files found to remove.\n"
     ]
    }
   ],
   "source": [
    "# Clean up additional files after processing\n",
    "input_dir = r\"C:\\Users\\ageglio\\Desktop\\test_dem_products\\TB_2\\TB_processed\"\n",
    "Utils.remove_additional_files(directory=os.path.dirname(input_dir))"
   ]
  }
 ],
 "metadata": {
  "kernelspec": {
   "display_name": "arcpy3.4",
   "language": "python",
   "name": "python3"
  },
  "language_info": {
   "codemirror_mode": {
    "name": "ipython",
    "version": 3
   },
   "file_extension": ".py",
   "mimetype": "text/x-python",
   "name": "python",
   "nbconvert_exporter": "python",
   "pygments_lexer": "ipython3",
   "version": "3.11.8"
  }
 },
 "nbformat": 4,
 "nbformat_minor": 5
}
