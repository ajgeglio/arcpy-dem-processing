{
 "cells": [
  {
   "cell_type": "markdown",
   "metadata": {},
   "source": [
    "# DEM visualizations example"
   ]
  },
  {
   "cell_type": "code",
   "execution_count": 2,
   "metadata": {},
   "outputs": [],
   "source": [
    "import sys\n",
    "import rasterio\n",
    "sys.path.append(\"../src\")\n",
    "from plotter import PlotDEM\n",
    "# list your dem path\n",
    "dem_path = r\"C:\\Users\\ageglio\\Documents\\NLM_DataRelease\\NLM_DataRelease\\IngallsPoint_2021\\0.5m\\IP_BY_0.5m.tif\"\n",
    "# create a class instance\n",
    "from derivatives import *"
   ]
  },
  {
   "cell_type": "code",
   "execution_count": null,
   "metadata": {},
   "outputs": [],
   "source": [
    "path = r\"D:\\ageglio-1\\usgs_northern_lm_reefs_processing\\habitat_derivatives\\IP_BY_0_5m\"\n",
    "products = Utils.list_files(path, extensions=[\".tif\", \".tiff\"])\n",
    "products"
   ]
  },
  {
   "cell_type": "markdown",
   "metadata": {},
   "source": [
    "## Plot DEM only"
   ]
  },
  {
   "cell_type": "code",
   "execution_count": null,
   "metadata": {},
   "outputs": [],
   "source": [
    "plotter = PlotDEM(products[0])\n",
    "plotter.plot_dem()"
   ]
  },
  {
   "cell_type": "markdown",
   "metadata": {},
   "source": [
    "## visualizing Local Binary Patterns"
   ]
  },
  {
   "cell_type": "code",
   "execution_count": null,
   "metadata": {},
   "outputs": [],
   "source": [
    "# Example usage demonstrating local binary product neighborhood cells:\n",
    "plotter.plot_lbp_neighbors(n_points=8, radius=1)"
   ]
  },
  {
   "cell_type": "code",
   "execution_count": null,
   "metadata": {},
   "outputs": [],
   "source": [
    "n_points = 9\n",
    "radius = 1\n",
    "method = 'default'  # or 'uniform', 'nri_uniform', 'ror'\n",
    "# Generate LBP heatmap\n",
    "plotter.generate_lbp_heatmap(dem_data, radius, n_points, method)"
   ]
  },
  {
   "cell_type": "markdown",
   "metadata": {},
   "source": [
    "## Visualizing flow directions"
   ]
  },
  {
   "cell_type": "code",
   "execution_count": null,
   "metadata": {},
   "outputs": [],
   "source": [
    "# Example usage\n",
    "plotter.generate_flow_heatmap(dem_data)"
   ]
  },
  {
   "cell_type": "markdown",
   "metadata": {},
   "source": [
    "## Visualizing Shannon index"
   ]
  },
  {
   "cell_type": "code",
   "execution_count": null,
   "metadata": {},
   "outputs": [],
   "source": [
    "shannon_array = plotter.visualize_flow_direction_and_shannon_index(dem_data, nodata, window_size=21)"
   ]
  },
  {
   "cell_type": "markdown",
   "metadata": {},
   "source": [
    "## Visualizing TPI, TRI, Roughness, Slope, Aspect"
   ]
  },
  {
   "cell_type": "code",
   "execution_count": null,
   "metadata": {},
   "outputs": [],
   "source": [
    "variable = \"TRI\"\n",
    "plotter.generate_tpi_tri_roughness_slope_aspect_heatmap(\n",
    "\tdem_data, variable, transform=transform, output_heatmap_path=None, show=True\n",
    ")\n"
   ]
  }
 ],
 "metadata": {
  "kernelspec": {
   "display_name": "arcpy3.4",
   "language": "python",
   "name": "python3"
  },
  "language_info": {
   "codemirror_mode": {
    "name": "ipython",
    "version": 3
   },
   "file_extension": ".py",
   "mimetype": "text/x-python",
   "name": "python",
   "nbconvert_exporter": "python",
   "pygments_lexer": "ipython3",
   "version": "3.11.8"
  }
 },
 "nbformat": 4,
 "nbformat_minor": 2
}
